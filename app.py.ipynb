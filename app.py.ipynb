{
 "cells": [
  {
   "cell_type": "code",
   "execution_count": 4,
   "metadata": {},
   "outputs": [],
   "source": [
    "from flask import Flask, render_template\n",
    "from flask_pymongo import PyMongo\n",
    "import scraping\n",
    "\n",
    "\n",
    "app = Flask(__name__)\n",
    "\n",
    "# flask_pymongo to connect/modify to mongo db\n",
    "\n",
    "app.config[\"MONGO_URI\"] = \"mongodb://localhost:27017/mars_app\"\n",
    "\n",
    "# Uniform Resource Identifier(tell python app connects to Mongo using URI, akin to URL)\n",
    "# the url identifies how to reach mongo\n",
    "\n",
    "\n",
    "mongo = PyMongo(app)\n",
    "\n",
    "@app.route('/')\n",
    "# home page\n",
    "\n",
    "def index():\n",
    "# index.html\n",
    "\n",
    "    mars = mongo.db.mars.find_one()\n",
    "#    uses pymongo to find mars collection in our current db (mars_app)\n",
    "\n",
    "    return render_template(\"index.html\", mars=mars)\n",
    "#    returns an html template, python uses mars collection in mongodb\n",
    "\n",
    "# links visual representation of web app to the code\n",
    "\n",
    "\n",
    "@app.route('/scrape')\n",
    "\n",
    "def scrape():\n",
    "    \n",
    "    mars = mongo.db.mars\n",
    "#     access mongodb\n",
    "\n",
    "    mars_data = scraping.scrap_all()\n",
    "#     scrape new(current) data from scraping.py and holds it\n",
    "\n",
    "    mars.update({}, mars_data, upsert=True)\n",
    "#     update(insert new data) db, upsert creats new document if not already\n",
    "    \n",
    "    return \"Scraping Successful!!\"\n",
    "\n",
    "\n",
    "# run flask\n",
    "if __name__ == \"__main__\":\n",
    "   app.run()\n",
    "\n",
    "\n",
    "\n",
    "\n",
    "    "
   ]
  },
  {
   "cell_type": "code",
   "execution_count": null,
   "metadata": {},
   "outputs": [],
   "source": []
  },
  {
   "cell_type": "code",
   "execution_count": null,
   "metadata": {},
   "outputs": [],
   "source": []
  },
  {
   "cell_type": "code",
   "execution_count": null,
   "metadata": {},
   "outputs": [],
   "source": []
  },
  {
   "cell_type": "code",
   "execution_count": null,
   "metadata": {},
   "outputs": [],
   "source": []
  },
  {
   "cell_type": "code",
   "execution_count": null,
   "metadata": {},
   "outputs": [],
   "source": []
  },
  {
   "cell_type": "code",
   "execution_count": null,
   "metadata": {},
   "outputs": [],
   "source": []
  }
 ],
 "metadata": {
  "kernelspec": {
   "display_name": "Python 3",
   "language": "python",
   "name": "python3"
  },
  "language_info": {
   "codemirror_mode": {
    "name": "ipython",
    "version": 3
   },
   "file_extension": ".py",
   "mimetype": "text/x-python",
   "name": "python",
   "nbconvert_exporter": "python",
   "pygments_lexer": "ipython3",
   "version": "3.7.6"
  }
 },
 "nbformat": 4,
 "nbformat_minor": 4
}
