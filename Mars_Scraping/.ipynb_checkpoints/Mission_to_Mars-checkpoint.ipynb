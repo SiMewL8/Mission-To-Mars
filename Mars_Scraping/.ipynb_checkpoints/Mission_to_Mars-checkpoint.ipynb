{
 "cells": [
  {
   "cell_type": "code",
   "execution_count": 1,
   "metadata": {},
   "outputs": [],
   "source": [
    "# importing dependencies\n",
    "\n",
    "from splinter import Browser\n",
    "\n",
    "from bs4 import BeautifulSoup as soupy\n",
    "\n",
    "import pandas as pd"
   ]
  },
  {
   "cell_type": "code",
   "execution_count": 2,
   "metadata": {},
   "outputs": [],
   "source": [
    "# chromedriver executable path thru splinter\n",
    "\n",
    "# executable_path = {'executable_path':'chromedriver'}\n",
    "\n",
    "# browser = Browser('chrome', **executable_path)\n",
    "\n",
    "\n",
    "browser = Browser('chrome', **{'executable_path':'chromedriver'})\n"
   ]
  },
  {
   "cell_type": "code",
   "execution_count": 3,
   "metadata": {},
   "outputs": [
    {
     "data": {
      "text/plain": [
       "True"
      ]
     },
     "execution_count": 3,
     "metadata": {},
     "output_type": "execute_result"
    }
   ],
   "source": [
    "# visit mars nasa site, TOS is more leniant on web scrapping\n",
    "\n",
    "nasa_url = 'https://mars.nasa.gov/news/'\n",
    "\n",
    "browser.visit(nasa_url)\n",
    "\n",
    "# optional delay for loading page\n",
    "\n",
    "browser.is_element_present_by_css(\"ul.item_list li.slide\", wait_time=1)\n",
    "\n",
    "# .is_element_present_by_css(\"ul.item_list li.slide\"...\n",
    "# searches for specific combos of tag (ul, id) with attribute (item_list, slide)\n",
    "# search result should be <li class=\"slide\"> within  <ul class=”item_list”>\n",
    "\n",
    "# wait_time=1 adds 1sec delay for heavy dynamic pages"
   ]
  },
  {
   "cell_type": "code",
   "execution_count": 5,
   "metadata": {},
   "outputs": [],
   "source": [
    "# html parser\n",
    "\n",
    "parse_html = browser.html\n",
    "\n",
    "news_soup = soupy(parse_html, 'html.parser')\n",
    "\n",
    "slide_elem = news_soup.select_one('ul.item_list li.slide') # parent element, holds other elements to furhtur filter\n",
    "\n",
    "# css returns results right to left, so <li class='slide'> will be matches first"
   ]
  },
  {
   "cell_type": "code",
   "execution_count": null,
   "metadata": {},
   "outputs": [],
   "source": []
  },
  {
   "cell_type": "code",
   "execution_count": 6,
   "metadata": {},
   "outputs": [
    {
     "data": {
      "text/plain": [
       "<div class=\"content_title\"><a href=\"/news/8726/8-martian-postcards-to-celebrate-curiositys-landing-anniversary/\" target=\"_self\">8 Martian Postcards to Celebrate Curiosity's Landing Anniversary</a></div>"
      ]
     },
     "execution_count": 6,
     "metadata": {},
     "output_type": "execute_result"
    }
   ],
   "source": [
    "slide_elem.find('div', class_='content_title')\n",
    "\n",
    "# find_all will yield all elements under that class list, hence all summaries, .find yields the first one"
   ]
  },
  {
   "cell_type": "code",
   "execution_count": 7,
   "metadata": {},
   "outputs": [
    {
     "data": {
      "text/plain": [
       "\"8 Martian Postcards to Celebrate Curiosity's Landing Anniversary\""
      ]
     },
     "execution_count": 7,
     "metadata": {},
     "output_type": "execute_result"
    }
   ],
   "source": [
    "# find latest news title\n",
    "\n",
    "news_title = slide_elem.find('div',class_='content_title').get_text()\n",
    "\n",
    "news_title"
   ]
  },
  {
   "cell_type": "code",
   "execution_count": 8,
   "metadata": {},
   "outputs": [
    {
     "data": {
      "text/plain": [
       "'August  3, 2020'"
      ]
     },
     "execution_count": 8,
     "metadata": {},
     "output_type": "execute_result"
    }
   ],
   "source": [
    "news_date = slide_elem.find('div',class_='list_date').get_text()\n",
    "\n",
    "news_date"
   ]
  },
  {
   "cell_type": "code",
   "execution_count": 16,
   "metadata": {},
   "outputs": [
    {
     "data": {
      "text/plain": [
       "'https://mars.nasa.gov/news/8726/8-martian-postcards-to-celebrate-curiositys-landing-anniversary/'"
      ]
     },
     "execution_count": 16,
     "metadata": {},
     "output_type": "execute_result"
    }
   ],
   "source": [
    "latest_art_link = f\"https://mars.nasa.gov{slide_elem.select_one('ul li a').get('href')}\"\n",
    "\n",
    "latest_art_link"
   ]
  },
  {
   "cell_type": "code",
   "execution_count": null,
   "metadata": {},
   "outputs": [],
   "source": [
    "# find latest summary\n",
    "\n",
    "news_teaser_sum = slide_elem.find('div',class_='article_teaser_body').get_text()\n",
    "\n",
    "news_teaser_sum\n"
   ]
  },
  {
   "cell_type": "markdown",
   "metadata": {},
   "source": [
    "### Featured Images"
   ]
  },
  {
   "cell_type": "code",
   "execution_count": null,
   "metadata": {},
   "outputs": [],
   "source": [
    "# trying to automate splinter into getting the full sized featured image\n",
    "\n",
    "# visiting JPL images and retrieving featured images\n",
    "\n",
    "url = 'https://www.jpl.nasa.gov/spaceimages/?search=&category=Mars'\n",
    "browser.visit(url)"
   ]
  },
  {
   "cell_type": "code",
   "execution_count": null,
   "metadata": {},
   "outputs": [],
   "source": [
    "# getting to featured image\n",
    "full_image_elem = browser.find_by_id('full_image')\n",
    "\n",
    "full_image_elem.click()\n"
   ]
  },
  {
   "cell_type": "code",
   "execution_count": null,
   "metadata": {},
   "outputs": [],
   "source": [
    "# more info is found, checked, stored as reference, and accessed with click\n",
    "\n",
    "browser.is_element_present_by_text('more info', wait_time=1)\n",
    "# searches for element with provided text, returns a bool\n",
    "\n",
    "more_info_elem = browser.links.find_by_partial_text('more info')\n",
    "# uses 'more info' to find associated link\n",
    "\n",
    "more_info_elem.click()"
   ]
  },
  {
   "cell_type": "code",
   "execution_count": null,
   "metadata": {},
   "outputs": [],
   "source": [
    "# parsing full image html with soupy to scrape full-size image url\n",
    "\n",
    "parse_html = browser.html\n",
    "\n",
    "full_img_soup = soupy(parse_html, 'html.parser' )\n"
   ]
  },
  {
   "cell_type": "code",
   "execution_count": null,
   "metadata": {
    "scrolled": true
   },
   "outputs": [],
   "source": [
    "# finding the latest image every time, instead of the current image present, to avoid relying on the URL\n",
    "\n",
    "latest_image_full = full_img_soup.select_one('figure.lede a img').get(\"src\")\n",
    "\n",
    "latest_imgurl = f\"https://www.jpl.nasa.gov{latest_image_full}\"\n",
    "\n",
    "latest_imgurl #resulted link will always be changing in regards to the featured image"
   ]
  },
  {
   "cell_type": "code",
   "execution_count": null,
   "metadata": {},
   "outputs": [],
   "source": [
    "# mars hemis with names and url links\n",
    "\n",
    "url = 'https://astrogeology.usgs.gov/search/results?q=hemisphere+enhanced&k1=target&v1=Mars'\n",
    "\n",
    "browser.visit(url)\n",
    "\n",
    "browser.is_element_present_by_text('Cerberus Hemisphere Enhanced', wait_time=1)\n",
    "\n",
    "hemi1_click1 = browser.links.find_by_partial_text('Cerberus Hemisphere Enhanced')\n",
    "# # uses 'more info' to find associated link\n",
    "\n",
    "hemi1_click1\n",
    "\n",
    "# hemi1_click1.click()\n",
    "\n",
    "# parse_html = browser.html\n",
    "\n",
    "# hemi1_parse_html = soupy(parse_html, 'html.parser' )\n",
    "\n",
    "# hemi1_url = hemi1_parse_html.select_one('ul li a').get(\"href\")\n",
    "\n",
    "# hemi1_url"
   ]
  },
  {
   "cell_type": "code",
   "execution_count": null,
   "metadata": {},
   "outputs": [],
   "source": [
    "hemis_search_list = ['Cerberus Hemisphere Enhanced',\n",
    "                     'Schiaparelli Hemisphere Enhanced',\n",
    "                     'Syrtis Major Hemisphere Enhanced',\n",
    "                     'Valles Marineris Hemisphere Enhanced']\n",
    "\n",
    "hemis_search_list[0]\n",
    "\n",
    "names_n_url = []\n",
    "\n",
    "Hemisphere = \"Hemisphere\"\n",
    "\n",
    "URL = \"URL\"\n",
    "\n",
    "for x in range(len(hemis_search_list)):\n",
    "    \n",
    "    url = 'https://astrogeology.usgs.gov/search/results?q=hemisphere+enhanced&k1=target&v1=Mars'\n",
    "\n",
    "    browser.visit(url)\n",
    "\n",
    "    browser.is_element_present_by_text((f'{hemis_search_list[x]}'), wait_time=2)\n",
    "\n",
    "    hemi_click = browser.links.find_by_partial_text(f'{hemis_search_list[x]}')\n",
    "\n",
    "    hemi_click.click()\n",
    "\n",
    "    parse_html = browser.html\n",
    "\n",
    "    hemi_parse_html = soupy(parse_html, 'html.parser' )\n",
    "\n",
    "    hemi_img_url = hemi_parse_html.select_one('ul li a').get(\"href\")\n",
    "\n",
    "    names_n_url.append({Hemisphere:hemis_search_list[x],URL:hemi_img_url})\n",
    "\n",
    "df_hemi_urls = pd.DataFrame.from_dict(names_n_url, orient='columns')\n",
    "\n",
    "df_hemi_urls.set_index('Hemisphere', inplace=True)\n",
    "\n",
    "pd.set_option('display.max_colwidth', -1)\n",
    "\n",
    "df_hemi_urls"
   ]
  },
  {
   "cell_type": "code",
   "execution_count": null,
   "metadata": {},
   "outputs": [],
   "source": [
    "\n",
    "\n",
    "df_html = df_hemi_urls.to_html(\n",
    "    render_links=True,\n",
    "    escape=False,\n",
    ")\n",
    "\n",
    "df_html"
   ]
  },
  {
   "cell_type": "code",
   "execution_count": null,
   "metadata": {},
   "outputs": [],
   "source": [
    "names_n_url.items()"
   ]
  },
  {
   "cell_type": "code",
   "execution_count": null,
   "metadata": {},
   "outputs": [],
   "source": [
    "# df = pd.DataFrame(names_n_url, columns=['Hemispheres', 'Links'])\n",
    "\n",
    "new_df = pd.DataFrame.from_dict(names_n_url, orient='columns')\n",
    "\n",
    "new_df.set_index('Hemisphere', inplace=True) # set column index\n",
    "# new_dfpd.DataFrame.from_dict(data, orient='coloumns')\n",
    "\n",
    "pd.set_option('display.max_colwidth', -1)\n",
    "\n",
    "new_df\n"
   ]
  },
  {
   "cell_type": "code",
   "execution_count": null,
   "metadata": {},
   "outputs": [],
   "source": [
    "df = pd.Series(names_n_url)\n",
    "# df.columns = ['Hemispheres', 'Links'] # adds column names\n",
    "# df.set_index('Hemispheres', inplace=True) # set column index\n",
    "\n",
    "df2 = pd.DataFrame(df)\n",
    "\n",
    "df2"
   ]
  },
  {
   "cell_type": "code",
   "execution_count": null,
   "metadata": {
    "scrolled": true
   },
   "outputs": [],
   "source": [
    "url_list = []\n",
    "\n",
    "url = 'https://astrogeology.usgs.gov/search/results?q=hemisphere+enhanced&k1=target&v1=Mars'\n",
    "\n",
    "browser.visit(url)\n",
    "\n",
    "# browser.is_element_present_by_text('Cerberus Hemisphere Enhanced', wait_time=1)\n",
    "\n",
    "parse_html = browser.html\n",
    "\n",
    "url_collect = soupy(parse_html, 'html.parser' )\n",
    "\n",
    "url_collect.find_all_next('/search/map/Mars/Viking')\n",
    "\n",
    "# url_collect.find_all('h3')\n",
    "\n",
    "# url_collect.find('h3').text\n",
    "\n",
    "# for get_url in url_list:\n",
    "    \n",
    "#     hemi_article_page = url_collect.select_one('div.description a').get(\"href\")\n",
    "# href_click1_list = []\n",
    "\n",
    "# url_list_only = []\n",
    "\n",
    "# href_click1 = url_collect.select('div.description a[href^=\"/search/map/Mars/Viking\"]')\n",
    "\n",
    "# browser.click_link_by_href(href_click1)\n",
    "\n",
    "# for x in range(1,4):\n",
    "    \n",
    "#     browser.click_link_by_href(href_click1)\n",
    "        \n",
    "#     name = clean.get(\"href\")\n",
    "    \n",
    "# #     browser.links.find_by_href(name)\n",
    "    \n",
    "#     href_click1_list.append(f\"https://astrogeology.usgs.gov/{name}\")\n",
    "    \n",
    "#     click_first = browser.links.find_by_href(name)\n",
    "    \n",
    "#     click_first.click()\n",
    "    \n",
    "#     parse_html = browser.html\n",
    "\n",
    "#     link_collect = soupy(parse_html, 'html.parser' )\n",
    "    \n",
    "#     url_get = link_collect.select_one('ul li a').get(\"href\")\n",
    "\n",
    "#     url_list_only.append(url_get)\n",
    "    \n",
    "    \n",
    "# href_click1_list\n",
    "\n",
    "# href_click1_list[2].click\n",
    "\n",
    "# browser.links.find_by_text(f\"{href_click1_list[0]}\").click()\n",
    "\n",
    "\n",
    "\n",
    "    \n",
    "    \n",
    "# # \n",
    "#     for article_url in :\n",
    "# #         use get_url to visit articl page\n",
    "# #         get image_url\n",
    "\n",
    "\n",
    "\n",
    "\n",
    "\n",
    "\n",
    "\n",
    "\n"
   ]
  },
  {
   "cell_type": "code",
   "execution_count": null,
   "metadata": {},
   "outputs": [],
   "source": [
    "browser.click_link_by_href('/search/map/Mars/Viking/schiaparelli_enhanced')"
   ]
  },
  {
   "cell_type": "code",
   "execution_count": null,
   "metadata": {},
   "outputs": [],
   "source": [
    "# url_collect.select_one('div.description a').get(\"href\")\n",
    "\n",
    "# url_collect.find_all_next('div.description a')\n",
    "\n",
    "href_click1 = url_collect.select('div.description a[href^=\"/search/map/Mars/Viking\"]')\n",
    "\n",
    "href_click1_list = []\n",
    "\n",
    "for clean in href_click1:\n",
    "    name = clean.get(\"href\")\n",
    "    \n",
    "    browser\n",
    "    \n",
    "    href_click1_list.append(f\"https://astrogeology.usgs.gov/{name}\")\n",
    "    \n",
    "\n",
    "    \n",
    "# href_click1_list[1].click()\n",
    "\n"
   ]
  },
  {
   "cell_type": "code",
   "execution_count": null,
   "metadata": {},
   "outputs": [],
   "source": [
    "# finding h3 since all hemis fall under that\n",
    "\n",
    "url = 'https://astrogeology.usgs.gov/search/results?q=hemisphere+enhanced&k1=target&v1=Mars'\n",
    "\n",
    "browser.visit(url)\n",
    "\n",
    "parse_html = browser.html\n",
    "\n",
    "h3_soup = soupy(parse_html, 'html.parser' )\n",
    "\n",
    "h3_tag = h3_soup.find_all('h3')\n",
    "\n",
    "h3_tag\n",
    "\n",
    "# hemi_names = {}\n",
    "\n",
    "hemis_names = []\n",
    "\n",
    "for clean in h3_tag:\n",
    "    name = clean.text\n",
    "    \n",
    "    hemis_names.append(name)\n",
    "    \n",
    "    \n",
    "hemis_names\n",
    "\n",
    "\n",
    "# # h3_find = full_img_soup.find('div', class_='collapsible results')\n",
    "\n",
    "# # h3_deeper = h3_find.find('div', class_='description')\n",
    "\n",
    "# h3_hemi1 = h3_tags.select_one('div', class_='description')\n",
    "\n",
    "# print(h3_hemi1)\n",
    "\n",
    "# h3_tags = h3_find.find_all('a', class_='itemLink product-item')\n",
    "\n",
    "# h3_tags\n",
    "\n",
    "# h3_tags = h3_find.find_all('h3')"
   ]
  },
  {
   "cell_type": "markdown",
   "metadata": {},
   "source": [
    "### Mars Facts"
   ]
  },
  {
   "cell_type": "code",
   "execution_count": null,
   "metadata": {},
   "outputs": [],
   "source": [
    "# using pd readHTML function to read an entire Mars facts html table\n",
    "\n",
    "mars_df = pd.read_html('https://space-facts.com/mars/')[0]\n",
    "# read_html pulls all tables in a given link turns into a df, [0] narrows down to first table\n",
    "\n",
    "mars_df.columns = ['description','value'] # adds column names\n",
    "\n",
    "\n",
    "mars_df.set_index('description', inplace=True) # set column index\n",
    "\n",
    "\n",
    "mars_df\n"
   ]
  },
  {
   "cell_type": "code",
   "execution_count": null,
   "metadata": {},
   "outputs": [],
   "source": [
    "mars_df.to_html() #incase converting df back to html"
   ]
  },
  {
   "cell_type": "code",
   "execution_count": null,
   "metadata": {},
   "outputs": [],
   "source": [
    "browser.quit()"
   ]
  },
  {
   "cell_type": "code",
   "execution_count": null,
   "metadata": {},
   "outputs": [],
   "source": [
    "arr = ['apple', 'organe', 'heck', 'animal']\n",
    "\n",
    "# # for x in range(len(arr)):\n",
    "# #     for y in range(len(arr)):\n",
    "# #         print(arr[x],arr[y])\n",
    "        \n",
    "# # [print(arr[x],arr[y]) for x in range(len(arr)) for y in range(len(y))]\n",
    "\n",
    "\n",
    "\n",
    "# def fizzbuzz(x):\n",
    "#     for x in range(1,101):\n",
    "#         if (x % 3 | x % 5) == 0:\n",
    "#             print('fizzbuzz')\n",
    "#         elif x % 5 == 0:\n",
    "#             print('buzz')\n",
    "#         elif x % 3 == 0:\n",
    "#             print('fizz')\n",
    "#         else:\n",
    "#             print(x)\n",
    "\n",
    "# fizzbuzz(x)\n",
    "\n",
    "\n",
    "\n",
    "def test_func():\n",
    "    for x in range(len(arr)):\n",
    "        for y in range(len(arr)):\n",
    "            print(arr[x],arr[y])\n",
    "    return len(arr), 3+5, url\n",
    "    \n",
    "            \n",
    "            \n",
    "test_func()\n",
    "\n"
   ]
  },
  {
   "cell_type": "code",
   "execution_count": null,
   "metadata": {},
   "outputs": [],
   "source": []
  }
 ],
 "metadata": {
  "kernelspec": {
   "display_name": "Python 3",
   "language": "python",
   "name": "python3"
  },
  "language_info": {
   "codemirror_mode": {
    "name": "ipython",
    "version": 3
   },
   "file_extension": ".py",
   "mimetype": "text/x-python",
   "name": "python",
   "nbconvert_exporter": "python",
   "pygments_lexer": "ipython3",
   "version": "3.7.6"
  }
 },
 "nbformat": 4,
 "nbformat_minor": 4
}
